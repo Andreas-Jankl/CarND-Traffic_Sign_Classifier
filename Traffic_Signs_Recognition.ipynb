{
 "cells": [
  {
   "cell_type": "markdown",
   "metadata": {},
   "source": [
    "# Self-Driving Car Engineer Nanodegree\n",
    "\n",
    "## Deep Learning\n",
    "\n",
    "## Project: Build a Traffic Sign Recognition Classifier\n",
    "\n",
    "In this notebook, a template is provided for you to implement your functionality in stages which is required to successfully complete this project. If additional code is required that cannot be included in the notebook, be sure that the Python code is successfully imported and included in your submission, if necessary. Sections that begin with **'Implementation'** in the header indicate where you should begin your implementation for your project. Note that some sections of implementation are optional, and will be marked with **'Optional'** in the header.\n",
    "\n",
    "In addition to implementing code, there will be questions that you must answer which relate to the project and your implementation. Each section where you will answer a question is preceded by a **'Question'** header. Carefully read each question and provide thorough answers in the following text boxes that begin with **'Answer:'**. Your project submission will be evaluated based on your answers to each of the questions and the implementation you provide.\n",
    "\n",
    ">**Note:** Code and Markdown cells can be executed using the **Shift + Enter** keyboard shortcut. In addition, Markdown cells can be edited by typically double-clicking the cell to enter edit mode."
   ]
  },
  {
   "cell_type": "markdown",
   "metadata": {},
   "source": [
    "---\n",
    "\n",
    "## Step 1: Dataset Exploration\n",
    "\n",
    "Visualize the German Traffic Signs Dataset. This is open ended, some suggestions include: plotting traffic signs images, plotting the count of each sign, etc. Be creative!\n",
    "\n",
    "\n",
    "The pickled data is a dictionary with 4 key/value pairs:\n",
    "\n",
    "- features -> the images pixel values, (width, height, channels)\n",
    "- labels -> the label of the traffic sign\n",
    "- sizes -> the original width and height of the image, (width, height)\n",
    "- coords -> coordinates of a bounding box around the sign in the image, (x1, y1, x2, y2). Based the original image (not the resized version)."
   ]
  },
  {
   "cell_type": "code",
   "execution_count": 1,
   "metadata": {},
   "outputs": [
    {
     "name": "stdout",
     "output_type": "stream",
     "text": [
      "Basic setup is done and fine\n"
     ]
    }
   ],
   "source": [
    "# Load pickled data\n",
    "import pickle\n",
    "import matplotlib.pyplot as plt\n",
    "import matplotlib.image as mpimg\n",
    "import numpy as np\n",
    "import scipy as sp\n",
    "from sklearn.model_selection import train_test_split\n",
    "from sklearn.preprocessing import LabelBinarizer\n",
    "from sklearn.utils import resample\n",
    "import math\n",
    "import tensorflow as tf\n",
    "from tqdm import tqdm\n",
    "import csv\n",
    "\n",
    "#Load data from pickle file\n",
    "training_file = 'train.p'\n",
    "testing_file = 'test.p'\n",
    "\n",
    "with open(training_file, mode='rb') as f:\n",
    "    train = pickle.load(f)\n",
    "with open(testing_file, mode='rb') as f:\n",
    "    test = pickle.load(f)\n",
    "    \n",
    "print('Basic setup is done and fine')"
   ]
  },
  {
   "cell_type": "code",
   "execution_count": 2,
   "metadata": {},
   "outputs": [
    {
     "name": "stdout",
     "output_type": "stream",
     "text": [
      "Number of training examples = 39209\n",
      "Number of testing examples = 12630\n",
      "Image data shape = (32, 32, 3)\n",
      "Number of classes = 43\n",
      "Basic summary printed\n"
     ]
    }
   ],
   "source": [
    "### To start off let's do a basic data summary.\n",
    "\n",
    "#Find out number of training examples\n",
    "n_train = len(train['labels'])\n",
    "\n",
    "#Find out number of testing examples\n",
    "n_test = len(test['labels'])\n",
    "\n",
    "#Find out what's the shape of an image?\n",
    "image_shape = train['features'][0].shape\n",
    "\n",
    "#Find out how many classes are in the dataset\n",
    "n_classes = (np.unique(train['labels'])).size\n",
    "\n",
    "#Print the found numbers\n",
    "print(\"Number of training examples =\", n_train)\n",
    "print(\"Number of testing examples =\", n_test)\n",
    "print(\"Image data shape =\", image_shape)\n",
    "print(\"Number of classes =\", n_classes)\n",
    "print('Basic summary printed')"
   ]
  },
  {
   "cell_type": "code",
   "execution_count": 14,
   "metadata": {},
   "outputs": [
    {
     "name": "stdout",
     "output_type": "stream",
     "text": [
      "Showing the the definition of the 43 classes used in the dataset\n",
      "------------------------------------------------------------------\n",
      "['ClassId', 'SignName']\n",
      "['0', 'Speed limit (20km/h)']\n",
      "['1', 'Speed limit (30km/h)']\n",
      "['2', 'Speed limit (50km/h)']\n",
      "['3', 'Speed limit (60km/h)']\n",
      "['4', 'Speed limit (70km/h)']\n",
      "['5', 'Speed limit (80km/h)']\n",
      "['6', 'End of speed limit (80km/h)']\n",
      "['7', 'Speed limit (100km/h)']\n",
      "['8', 'Speed limit (120km/h)']\n",
      "['9', 'No passing']\n",
      "['10', 'No passing for vechiles over 3.5 metric tons']\n",
      "['11', 'Right-of-way at the next intersection']\n",
      "['12', 'Priority road']\n",
      "['13', 'Yield']\n",
      "['14', 'Stop']\n",
      "['15', 'No vechiles']\n",
      "['16', 'Vechiles over 3.5 metric tons prohibited']\n",
      "['17', 'No entry']\n",
      "['18', 'General caution']\n",
      "['19', 'Dangerous curve to the left']\n",
      "['20', 'Dangerous curve to the right']\n",
      "['21', 'Double curve']\n",
      "['22', 'Bumpy road']\n",
      "['23', 'Slippery road']\n",
      "['24', 'Road narrows on the right']\n",
      "['25', 'Road work']\n",
      "['26', 'Traffic signals']\n",
      "['27', 'Pedestrians']\n",
      "['28', 'Children crossing']\n",
      "['29', 'Bicycles crossing']\n",
      "['30', 'Beware of ice/snow']\n",
      "['31', 'Wild animals crossing']\n",
      "['32', 'End of all speed and passing limits']\n",
      "['33', 'Turn right ahead']\n",
      "['34', 'Turn left ahead']\n",
      "['35', 'Ahead only']\n",
      "['36', 'Go straight or right']\n",
      "['37', 'Go straight or left']\n",
      "['38', 'Keep right']\n",
      "['39', 'Keep left']\n",
      "['40', 'Roundabout mandatory']\n",
      "['41', 'End of no passing']\n",
      "['42', 'End of no passing by vechiles over 3.5 metric tons']\n",
      "------------------------------------------------------------------\n",
      "Again as reminder these are some specifics about the dataset\n",
      "------------------------------------------------------------------\n",
      "Number of images used as training examples = 39209\n",
      "Number of images used as testing examples = 12630\n",
      "The shape of the image data is = (32, 32, 3)\n",
      "------------------------------------------------------------------\n",
      "Starting to show some samples of the data\n",
      "Training picture number 50 wich has the class: 0 assigned to it. Take a look above which sign is represented by this number\n"
     ]
    },
    {
     "data": {
      "image/png": "[encoded data removed]",
      "text/plain": [
       "<matplotlib.figure.Figure at 0xbacf358>"
      ]
     },
     "metadata": {},
     "output_type": "display_data"
    },
    {
     "name": "stdout",
     "output_type": "stream",
     "text": [
      "Training picture number 23000 wich has the class: 14 assigned to it. Take a look above which sign is represented by this number\n"
     ]
    },
    {
     "data": {
      "image/png": "[encoded data removed]",
      "text/plain": [
       "<matplotlib.figure.Figure at 0xa870cc0>"
      ]
     },
     "metadata": {},
     "output_type": "display_data"
    }
   ],
   "source": [
    "### Data exploration visualization goes here.\n",
    "### Feel free to use as many code cells as needed.\n",
    "\n",
    "def showclasses_received_from_csv_file():\n",
    "    with open('signnames.csv', 'r') as csvfile:\n",
    "        spamreader = csv.reader(csvfile, delimiter=',', quoting=csv.QUOTE_NONE)\n",
    "        for row in spamreader:\n",
    "            print(row)\n",
    "\n",
    "#Custom function to show rgb image\n",
    "def imageshow_rgb(input):\n",
    "    image = np.array(input, dtype=np.uint8)\n",
    "    plt.imshow(image, interpolation='nearest')\n",
    "    plt.show()\n",
    "\n",
    "#Custom function to show gray image\n",
    "def imageshow_gray(input):\n",
    "    image = np.array(input, dtype=np.uint8)\n",
    "    plt.imshow(image, cmap='gray', interpolation='nearest')\n",
    "    plt.show()\n",
    "    \n",
    "#Custom function to convert RGB image to grayscale. Reason I implemented it from scratch is I can't \n",
    "#use opencv in this notebook as it runs in a virtual machine where no opencv is installed\n",
    "def rgb2gray(rgb):\n",
    "    r, g, b = rgb[:,:,:,0], rgb[:,:,:,1], rgb[:,:,:,2]\n",
    "    gray = 0.2989 * r + 0.5870 * g + 0.1140 * b\n",
    "    return gray\n",
    "\n",
    "print('Showing the the definition of the',n_classes,'classes used in the dataset')\n",
    "print('------------------------------------------------------------------')\n",
    "showclasses_received_from_csv_file()\n",
    "print('------------------------------------------------------------------')\n",
    "print('Again as reminder these are some specifics about the dataset')\n",
    "print('------------------------------------------------------------------')\n",
    "print(\"Number of images used as training examples =\", n_train)\n",
    "print(\"Number of images used as testing examples =\", n_test)\n",
    "print(\"The shape of the image data is =\", image_shape)\n",
    "print('------------------------------------------------------------------')\n",
    "print('Starting to show some samples of the data')\n",
    "print('Training picture number 50 wich has the class:',train['labels'][50],'assigned to it. Take a look above which sign is represented by this number')\n",
    "imageshow_rgb(train['features'][50])\n",
    "print('Training picture number 23000 wich has the class:',train['labels'][23000],'assigned to it. Take a look above which sign is represented by this number')\n",
    "imageshow_rgb(train['features'][23000])\n",
    "#imageshow_gray(train['features'][0])"
   ]
  },
  {
   "cell_type": "markdown",
   "metadata": {},
   "source": [
    "----\n",
    "\n",
    "## Step 2: Design and Test a Model Architecture\n",
    "\n",
    "Design and implement a deep learning model that learns to recognize traffic signs. Train and test your model on the [German Traffic Sign Dataset](http://benchmark.ini.rub.de/?section=gtsrb&subsection=dataset).\n",
    "\n",
    "There are various aspects to consider when thinking about this problem:\n",
    "\n",
    "- Your model can be derived from a deep feedforward net or a deep convolutional network.\n",
    "- Play around preprocessing techniques (normalization, rgb to grayscale, etc)\n",
    "- Number of examples per label (some have more than others).\n",
    "- Generate fake data.\n",
    "\n",
    "Here is an example of a [published baseline model on this problem](http://yann.lecun.com/exdb/publis/pdf/sermanet-ijcnn-11.pdf). It's not required to be familiar with the approach used in the paper but, it's good practice to try to read papers like these."
   ]
  },
  {
   "cell_type": "markdown",
   "metadata": {},
   "source": [
    "### Implementation\n",
    "\n",
    "Use the code cell (or multiple code cells, if necessary) to implement the first step of your project. Once you have completed your implementation and are satisfied with the results, be sure to thoroughly answer the questions that follow."
   ]
  },
  {
   "cell_type": "code",
   "execution_count": 8,
   "metadata": {},
   "outputs": [
    {
     "name": "stdout",
     "output_type": "stream",
     "text": [
      "Preprocessing data - done\n"
     ]
    }
   ],
   "source": [
    "### Preprocess the data here.\n",
    "### Feel free to use as many code cells as needed.\n",
    "\n",
    "#Implement Min-Max scaling for rgb image data\n",
    "def normalize_rgb(image_data):\n",
    "    \"\"\"\n",
    "    Normalize the image data with Min-Max scaling to a range of [a, b]\n",
    "    :param image_data: The image data to be normalized\n",
    "    :return: Normalized image data\n",
    "    \"\"\"\n",
    "    #Implement Min-Max scaling for image data per color channel\n",
    "    a=0.0\n",
    "    b=1.0\n",
    "    normalized_image_r = a + (((image_data[:,:,:,0]-0)*(b-a))/(255-0))\n",
    "    normalized_image_g = a + (((image_data[:,:,:,1]-0)*(b-a))/(255-0))\n",
    "    normalized_image_b = a + (((image_data[:,:,:,2]-0)*(b-a))/(255-0))\n",
    "    return normalized_image_r, normalized_image_g, normalized_image_r\n",
    "\n",
    "#Implement Min-Max scaling for gray image data\n",
    "def normalize_gray(image_data):\n",
    "    \"\"\"\n",
    "    Normalize the image data with Min-Max scaling to a range of [a, b]\n",
    "    :param image_data: The image data to be normalized\n",
    "    :return: Normalized image data\n",
    "    \"\"\"\n",
    "    #Implement Min-Max scaling for image data for single gray channel\n",
    "    a=0.0\n",
    "    b=1.0\n",
    "    normalized_image = a + (((image_data-0)*(b-a))/(255-0))\n",
    "    return normalized_image\n",
    "\n",
    "#Function to one hot encode the labels as tensorflow can't use the classes 0-42\n",
    "def one_hot_encode(train_labels, test_labels):\n",
    "    encoder = LabelBinarizer()\n",
    "    encoder.fit(train_labels)\n",
    "    train_labels_one_hot_encoded = encoder.transform(train_labels)\n",
    "    test_labels_one_hot_encoded = encoder.transform(test_labels)\n",
    "\n",
    "    # Change to float32, so it can be multiplied against the features in TensorFlow, which are float32\n",
    "    train_labels_one_hot_encoded = train_labels_one_hot_encoded.astype(np.float32)\n",
    "    test_labels_one_hot_encoded = test_labels_one_hot_encoded.astype(np.float32)\n",
    "    return train_labels_one_hot_encoded, test_labels_one_hot_encoded\n",
    "\n",
    "#Change features to float32, so it can be used against the variables in TensorFlow, which are float32\n",
    "train_features = train['features'].astype(np.float32)\n",
    "test_features = test['features'].astype(np.float32)\n",
    "\n",
    "#Use normalization and one hot encode function\n",
    "train_features[:,:,:,0],train_features[:,:,:,1],train_features[:,:,:,2] = normalize_rgb(train_features)\n",
    "test_features[:,:,:,0],test_features[:,:,:,1],test_features[:,:,:,2] = normalize_rgb(test_features)\n",
    "train_labels,test_labels=one_hot_encode(train['labels'],test['labels'])\n",
    "\n",
    "print(\"Preprocessing data - done\")"
   ]
  },
  {
   "cell_type": "code",
   "execution_count": 9,
   "metadata": {},
   "outputs": [
    {
     "name": "stdout",
     "output_type": "stream",
     "text": [
      "Splitting datasets - done\n"
     ]
    }
   ],
   "source": [
    "#Generate \n",
    "\n",
    "# Get randomized datasets for training and validation testsize is 5% of all samples. Training is 95% of all samples\n",
    "def randomized_validation_training_set(train_features, train_labels):\n",
    "    train_features, valid_features, train_labels, valid_labels = train_test_split(\n",
    "    train_features,\n",
    "    train_labels,\n",
    "    test_size=0.05,\n",
    "    random_state=832289)\n",
    "    return train_features, valid_features, train_labels, valid_labels\n",
    "\n",
    "train_features, valid_features, train_labels, valid_labels = randomized_validation_training_set(train_features, train_labels)\n",
    "\n",
    "print(\"Splitting datasets - done\")"
   ]
  },
  {
   "cell_type": "markdown",
   "metadata": {},
   "source": [
    "### Question 1 \n",
    "\n",
    "_Describe the techniques used to preprocess the data._"
   ]
  },
  {
   "cell_type": "markdown",
   "metadata": {},
   "source": [
    "**Answer:**"
   ]
  },
  {
   "cell_type": "code",
   "execution_count": 3,
   "metadata": {},
   "outputs": [],
   "source": [
    "### Generate data additional (if you want to!)\n",
    "### and split the data into training/validation/testing sets here.\n",
    "### Feel free to use as many code cells as needed.\n",
    "\n",
    "#The preprocessing is done as follows:\n",
    "    #1 - normalize the images = features by dividing each pixel with its maximum value of 255. Additionally the outcome is scaled by paramter a and b but in our case its set to be from 0.0 - 1.0\n",
    "    #2 - one hot encode the classes = labels of the images so that it can be used in the learning process"
   ]
  },
  {
   "cell_type": "markdown",
   "metadata": {},
   "source": [
    "### Question 2\n",
    "\n",
    "_Describe how you set up the training, validation and testing data for your model. If you generated additional data, why?_"
   ]
  },
  {
   "cell_type": "markdown",
   "metadata": {},
   "source": [
    "**Answer:**"
   ]
  },
  {
   "cell_type": "code",
   "execution_count": null,
   "metadata": {
    "collapsed": true
   },
   "outputs": [],
   "source": [
    "### Define your architecture here.\n",
    "### Feel free to use as many code cells as needed.\n",
    "\n",
    "#The setup for the data sets is done as follows:\n",
    "    #1 - randomize the data sets so that its made sure that a drawn sample ideally contains all classes and not just one type of class\n",
    "    #2 - split the training dataset in validation and training set. Validation is 5% of all data. Training is 95% of all data"
   ]
  },
  {
   "cell_type": "markdown",
   "metadata": {},
   "source": [
    "### Question 3\n",
    "\n",
    "_What does your final architecture look like? (Type of model, layers, sizes, connectivity, etc.)  For reference on how to build a deep neural network using TensorFlow, see [Deep Neural Network in TensorFlow\n",
    "](https://classroom.udacity.com/nanodegrees/nd013/parts/fbf77062-5703-404e-b60c-95b78b2f3f9e/modules/6df7ae49-c61c-4bb2-a23e-6527e69209ec/lessons/b516a270-8600-4f93-a0a3-20dfeabe5da6/concepts/83a3a2a2-a9bd-4b7b-95b0-eb924ab14432) from the classroom._\n"
   ]
  },
  {
   "cell_type": "markdown",
   "metadata": {},
   "source": [
    "**Answer:**"
   ]
  },
  {
   "cell_type": "code",
   "execution_count": 6,
   "metadata": {},
   "outputs": [
    {
     "data": {
      "image/png": "[encoded data removed]",
      "text/plain": [
       "<matplotlib.figure.Figure at 0xadaeb38>"
      ]
     },
     "metadata": {},
     "output_type": "display_data"
    }
   ],
   "source": [
    "#What is the architecture being chosen:\n",
    "    #1 - A 2 hidden layer neural network has been chosen\n",
    "    #2 - The input layers size is 32*32*3=3072 which can be seen in the following code:\n",
    "         #n_features = 1 \n",
    "         #for i in range(len(image_shape)):\n",
    "            #n_features = n_features * image_shape[i]\n",
    "    #3 - Since all layers are fully connected one needs to flatten the image to a vector in order to feed it to the network. The code for it is:\n",
    "         #x_flat = tf.reshape(x, [-1, n_features])\n",
    "    #4 - all layers except the output layer use Relu activation.\n",
    "    #5 - The output layer has 43 neurons as this is the number of classes which are in the training data set\n",
    "    #6 - The 1st hidden layer has 350 neurons the 2nd one 250 neurons\n",
    "    #7 - I started the network with inspiration from the network given here: https://github.com/aymericdamien/TensorFlow-Examples/blob/master/examples/3_NeuralNetworks/multilayer_perceptron.py\n",
    "    #8 - After training I discovered that increasing the neurons in the 1st layer led to better results as well on validation and training accuracy\n",
    "    #9 - A more elaborate approach with the following architecture could prove to be beneficial: several layers of convolution followed by several classification layers\n",
    "    #10 - I refrained from using the approach given in #5 due to lack of computing power.\n",
    "    #11 - Finally see belows picture of the architecture of the neural net:\n",
    "\n",
    "architecture = mpimg.imread('architecture.jpg')\n",
    "imageshow_rgb(architecture)"
   ]
  },
  {
   "cell_type": "code",
   "execution_count": 10,
   "metadata": {},
   "outputs": [
    {
     "name": "stdout",
     "output_type": "stream",
     "text": [
      "Input layer number of neurons 3072\n",
      "Hidden layer 1 number of neurons 350\n",
      "Hidden layer 2 number of neurons 250\n",
      "Output layer number of neurons 43\n",
      "Accuracy function created.\n",
      "Network setup correctly\n"
     ]
    }
   ],
   "source": [
    "#This is where the model is being setup in tensorflow.\n",
    "\n",
    "n_features = 1\n",
    "for i in range(len(image_shape)):\n",
    "    n_features = n_features * image_shape[i]\n",
    "n_labels = n_classes\n",
    "n_hidden_layer_1 = 350\n",
    "n_hidden_layer_2 = 250\n",
    "\n",
    "print('Input layer number of neurons', n_features)\n",
    "print('Hidden layer 1 number of neurons', n_hidden_layer_1)\n",
    "print('Hidden layer 2 number of neurons', n_hidden_layer_2)\n",
    "print('Output layer number of neurons', n_labels)\n",
    "\n",
    "#Set the weights and biases tensors\n",
    "weights = {\n",
    "    'hidden_layer_1': tf.Variable(tf.random_normal([n_features, n_hidden_layer_1])),\n",
    "    'hidden_layer_2': tf.Variable(tf.random_normal([n_hidden_layer_1, n_hidden_layer_2])),\n",
    "    'out': tf.Variable(tf.random_normal([n_hidden_layer_2, n_labels]))\n",
    "}\n",
    "\n",
    "biases = {\n",
    "    'hidden_layer_1': tf.Variable(tf.random_normal([n_hidden_layer_1])),\n",
    "    'hidden_layer_2': tf.Variable(tf.random_normal([n_hidden_layer_2])),\n",
    "    'out': tf.Variable(tf.random_normal([n_labels]))\n",
    "}\n",
    "\n",
    "# tf Graph input\n",
    "x = tf.placeholder(\"float32\", [None, image_shape[0], image_shape[1], image_shape[2]])\n",
    "y = tf.placeholder(\"float32\", [None, n_labels])\n",
    "\n",
    "x_flat = tf.reshape(x, [-1, n_features])\n",
    "\n",
    "# Create model\n",
    "def multilayer_network(x, weights, biases):\n",
    "    # Hidden layer with RELU activation\n",
    "    layer_1 = tf.add(tf.matmul(x_flat, weights['hidden_layer_1']), biases['hidden_layer_1'])\n",
    "    layer_1 = tf.nn.relu(layer_1)\n",
    "    # Hidden layer with RELU activation\n",
    "    layer_2 = tf.add(tf.matmul(layer_1, weights['hidden_layer_2']), biases['hidden_layer_2'])\n",
    "    layer_2 = tf.nn.relu(layer_2)\n",
    "    # Output layer with linear activation\n",
    "    out_layer = tf.matmul(layer_2, weights['out']) + biases['out']\n",
    "    return out_layer\n",
    "\n",
    "# Construct model\n",
    "prediction = multilayer_network(x, weights, biases)\n",
    "\n",
    "#The accuracy measured against the test and validation set\n",
    "test_accuracy = 0.0\n",
    "validation_accuracy = 0.0\n",
    "\n",
    "# Determine if the predictions are correct\n",
    "is_correct_prediction = tf.equal(tf.argmax(prediction, 1), tf.argmax(y, 1))\n",
    "# Calculate the accuracy of the predictions\n",
    "accuracy = tf.reduce_mean(tf.cast(is_correct_prediction, tf.float32))\n",
    "print('Accuracy function created.')\n",
    "print('Network setup correctly')"
   ]
  },
  {
   "cell_type": "code",
   "execution_count": 8,
   "metadata": {},
   "outputs": [
    {
     "name": "stdout",
     "output_type": "stream",
     "text": [
      "Number of training samples 37248\n",
      "Training setup done\n",
      "Training starting......\n"
     ]
    },
    {
     "name": "stderr",
     "output_type": "stream",
     "text": [
      "Epoch  1/20: 100%|██████████| 373/373 [03:34<00:00,  7.58batches/s]\n"
     ]
    },
    {
     "name": "stdout",
     "output_type": "stream",
     "text": [
      "Training for epoch 1 done\n"
     ]
    },
    {
     "name": "stderr",
     "output_type": "stream",
     "text": [
      "Epoch  2/20: 100%|██████████| 373/373 [03:09<00:00,  1.97batches/s]\n"
     ]
    },
    {
     "name": "stdout",
     "output_type": "stream",
     "text": [
      "Training for epoch 2 done\n"
     ]
    },
    {
     "name": "stderr",
     "output_type": "stream",
     "text": [
      "Epoch  3/20: 100%|██████████| 373/373 [03:42<00:00,  1.68batches/s]\n"
     ]
    },
    {
     "name": "stdout",
     "output_type": "stream",
     "text": [
      "Training for epoch 3 done\n"
     ]
    },
    {
     "name": "stderr",
     "output_type": "stream",
     "text": [
      "Epoch  4/20: 100%|██████████| 373/373 [03:23<00:00,  1.83batches/s]\n"
     ]
    },
    {
     "name": "stdout",
     "output_type": "stream",
     "text": [
      "Training for epoch 4 done\n"
     ]
    },
    {
     "name": "stderr",
     "output_type": "stream",
     "text": [
      "Epoch  5/20: 100%|██████████| 373/373 [03:21<00:00,  1.85batches/s]\n"
     ]
    },
    {
     "name": "stdout",
     "output_type": "stream",
     "text": [
      "Training for epoch 5 done\n"
     ]
    },
    {
     "name": "stderr",
     "output_type": "stream",
     "text": [
      "Epoch  6/20: 100%|██████████| 373/373 [03:34<00:00,  7.24batches/s]\n"
     ]
    },
    {
     "name": "stdout",
     "output_type": "stream",
     "text": [
      "Training for epoch 6 done\n"
     ]
    },
    {
     "name": "stderr",
     "output_type": "stream",
     "text": [
      "Epoch  7/20: 100%|██████████| 373/373 [03:19<00:00,  7.72batches/s]\n"
     ]
    },
    {
     "name": "stdout",
     "output_type": "stream",
     "text": [
      "Training for epoch 7 done\n"
     ]
    },
    {
     "name": "stderr",
     "output_type": "stream",
     "text": [
      "Epoch  8/20: 100%|██████████| 373/373 [02:57<00:00,  2.10batches/s]\n"
     ]
    },
    {
     "name": "stdout",
     "output_type": "stream",
     "text": [
      "Training for epoch 8 done\n"
     ]
    },
    {
     "name": "stderr",
     "output_type": "stream",
     "text": [
      "Epoch  9/20: 100%|██████████| 373/373 [03:02<00:00,  7.31batches/s]\n"
     ]
    },
    {
     "name": "stdout",
     "output_type": "stream",
     "text": [
      "Training for epoch 9 done\n"
     ]
    },
    {
     "name": "stderr",
     "output_type": "stream",
     "text": [
      "Epoch 10/20: 100%|██████████| 373/373 [02:58<00:00,  8.70batches/s]\n"
     ]
    },
    {
     "name": "stdout",
     "output_type": "stream",
     "text": [
      "Training for epoch 10 done\n"
     ]
    },
    {
     "name": "stderr",
     "output_type": "stream",
     "text": [
      "Epoch 11/20: 100%|██████████| 373/373 [02:54<00:00,  2.13batches/s]\n"
     ]
    },
    {
     "name": "stdout",
     "output_type": "stream",
     "text": [
      "Training for epoch 11 done\n"
     ]
    },
    {
     "name": "stderr",
     "output_type": "stream",
     "text": [
      "Epoch 12/20: 100%|██████████| 373/373 [03:01<00:00,  7.45batches/s]\n"
     ]
    },
    {
     "name": "stdout",
     "output_type": "stream",
     "text": [
      "Training for epoch 12 done\n"
     ]
    },
    {
     "name": "stderr",
     "output_type": "stream",
     "text": [
      "Epoch 13/20: 100%|██████████| 373/373 [02:56<00:00,  7.68batches/s]\n"
     ]
    },
    {
     "name": "stdout",
     "output_type": "stream",
     "text": [
      "Training for epoch 13 done\n"
     ]
    },
    {
     "name": "stderr",
     "output_type": "stream",
     "text": [
      "Epoch 14/20: 100%|██████████| 373/373 [02:49<00:00,  2.20batches/s]\n"
     ]
    },
    {
     "name": "stdout",
     "output_type": "stream",
     "text": [
      "Training for epoch 14 done\n"
     ]
    },
    {
     "name": "stderr",
     "output_type": "stream",
     "text": [
      "Epoch 15/20: 100%|██████████| 373/373 [02:46<00:00,  2.24batches/s]\n"
     ]
    },
    {
     "name": "stdout",
     "output_type": "stream",
     "text": [
      "Training for epoch 15 done\n"
     ]
    },
    {
     "name": "stderr",
     "output_type": "stream",
     "text": [
      "Epoch 16/20: 100%|██████████| 373/373 [02:45<00:00,  2.25batches/s]\n"
     ]
    },
    {
     "name": "stdout",
     "output_type": "stream",
     "text": [
      "Training for epoch 16 done\n"
     ]
    },
    {
     "name": "stderr",
     "output_type": "stream",
     "text": [
      "Epoch 17/20: 100%|██████████| 373/373 [02:55<00:00,  2.12batches/s]\n"
     ]
    },
    {
     "name": "stdout",
     "output_type": "stream",
     "text": [
      "Training for epoch 17 done\n"
     ]
    },
    {
     "name": "stderr",
     "output_type": "stream",
     "text": [
      "Epoch 18/20: 100%|██████████| 373/373 [02:48<00:00,  2.22batches/s]\n"
     ]
    },
    {
     "name": "stdout",
     "output_type": "stream",
     "text": [
      "Training for epoch 18 done\n"
     ]
    },
    {
     "name": "stderr",
     "output_type": "stream",
     "text": [
      "Epoch 19/20: 100%|██████████| 373/373 [03:00<00:00,  8.32batches/s]\n"
     ]
    },
    {
     "name": "stdout",
     "output_type": "stream",
     "text": [
      "Training for epoch 19 done\n"
     ]
    },
    {
     "name": "stderr",
     "output_type": "stream",
     "text": [
      "Epoch 20/20: 100%|██████████| 373/373 [02:45<00:00,  2.25batches/s]\n"
     ]
    },
    {
     "name": "stdout",
     "output_type": "stream",
     "text": [
      "Training for epoch 20 done\n",
      "------------------------\n",
      "Model saved in file: /tmp/model.ckpt\n",
      "------------------------\n",
      "training has finished now for the results\n"
     ]
    },
    {
     "data": {
      "image/png": "[encoded data removed]",
      "text/plain": [
       "<matplotlib.figure.Figure at 0x7f64fd9a64e0>"
      ]
     },
     "metadata": {},
     "output_type": "display_data"
    },
    {
     "name": "stdout",
     "output_type": "stream",
     "text": [
      "Validation accuracy at 0.8383477926254272\n",
      "Test accuracy at 0.6938242316246033\n"
     ]
    }
   ],
   "source": [
    "#This is where the model is being trained \n",
    "\n",
    "# Parameters\n",
    "learning_rate = 0.001\n",
    "training_epochs = 20\n",
    "batch_size = 100\n",
    "n_train_samples = len(train_features)\n",
    "\n",
    "# Define loss and optimizer\n",
    "cost = tf.reduce_mean(tf.nn.softmax_cross_entropy_with_logits(prediction, y))\n",
    "optimizer = tf.train.AdamOptimizer(learning_rate=learning_rate).minimize(cost)\n",
    "\n",
    "print('Number of training samples', n_train_samples)\n",
    "print('Training setup done')\n",
    "print('Training starting......')\n",
    "\n",
    "# Feed dicts for training, validation, and test session\n",
    "train_feed_dict = {x: train_features, y: train_labels}\n",
    "valid_feed_dict = {x: valid_features, y: valid_labels}\n",
    "test_feed_dict = {x: test_features, y: test_labels}\n",
    "\n",
    "# Measurements use for graphing loss and accuracy\n",
    "log_batch_step = 50\n",
    "batches = []\n",
    "loss_batch = []\n",
    "train_acc_batch = []\n",
    "valid_acc_batch = []\n",
    "\n",
    "# Add ops to save and restore all the variables.\n",
    "saver = tf.train.Saver()\n",
    "\n",
    "# Initializing the variables\n",
    "init = tf.initialize_all_variables()\n",
    "\n",
    "# Launch the graph\n",
    "with tf.Session() as session:\n",
    "    session.run(init)\n",
    "    batch_count = int(math.ceil((n_train_samples)/batch_size))\n",
    "\n",
    "    for epoch_i in range(training_epochs):\n",
    "        \n",
    "        # Progress bar\n",
    "        batches_pbar = tqdm(range(batch_count), desc='Epoch {:>2}/{}'.format(epoch_i+1, training_epochs), unit='batches')\n",
    "        \n",
    "        # The training cycle\n",
    "        for batch_i in batches_pbar:\n",
    "            # Get a batch of training features and labels\n",
    "            batch_start = batch_i*batch_size\n",
    "            batch_features = train_features[batch_start:batch_start + batch_size]\n",
    "            batch_labels = train_labels[batch_start:batch_start + batch_size]\n",
    "\n",
    "            # Run optimizer and get loss\n",
    "            _, l = session.run(\n",
    "                [optimizer, cost],\n",
    "                feed_dict={x: batch_features, y: batch_labels})\n",
    "\n",
    "            # Log every 50 batches\n",
    "            if not batch_i % log_batch_step:\n",
    "                # Calculate Training and Validation accuracy\n",
    "                training_accuracy = session.run(accuracy, feed_dict=train_feed_dict)\n",
    "                validation_accuracy = session.run(accuracy, feed_dict=valid_feed_dict)\n",
    "\n",
    "                # Log batches\n",
    "                previous_batch = batches[-1] if batches else 0\n",
    "                batches.append(log_batch_step + previous_batch)\n",
    "                loss_batch.append(l)\n",
    "                train_acc_batch.append(training_accuracy)\n",
    "                valid_acc_batch.append(validation_accuracy)\n",
    "                \n",
    "        print('Training for epoch',(epoch_i+1),'done')\n",
    "        \n",
    "        # Check accuracy against Validation data\n",
    "        validation_accuracy = session.run(accuracy, feed_dict=valid_feed_dict)\n",
    "        \n",
    "        # Check accuracy against Test data\n",
    "        test_accuracy = session.run(accuracy, feed_dict=test_feed_dict)\n",
    "        \n",
    "        if(epoch_i+1 == training_epochs):\n",
    "            save_path = saver.save(session, '/tmp/model.ckpt')\n",
    "            print(\"------------------------\")\n",
    "            print(\"Model saved in file: %s\" % save_path)\n",
    "            print(\"------------------------\")\n",
    "\n",
    "#Print results of accuracy\n",
    "print('training has finished now for the results')\n",
    "loss_plot = plt.subplot(211)\n",
    "loss_plot.set_title('Loss')\n",
    "loss_plot.plot(batches, loss_batch, 'g')\n",
    "loss_plot.set_xlim([batches[0], batches[-1]])\n",
    "acc_plot = plt.subplot(212)\n",
    "acc_plot.set_title('Accuracy')\n",
    "acc_plot.plot(batches, train_acc_batch, 'r', label='Training Accuracy')\n",
    "acc_plot.plot(batches, valid_acc_batch, 'b', label='Validation Accuracy')\n",
    "acc_plot.set_ylim([0, 1.0])\n",
    "acc_plot.set_xlim([batches[0], batches[-1]])\n",
    "acc_plot.legend(loc=4)\n",
    "plt.tight_layout()\n",
    "plt.show()\n",
    "\n",
    "print('Validation accuracy at {}'.format(validation_accuracy))\n",
    "print('Test accuracy at {}'.format(test_accuracy))"
   ]
  },
  {
   "cell_type": "markdown",
   "metadata": {},
   "source": [
    "### Question 4\n",
    "\n",
    "_How did you train your model? (Type of optimizer, batch size, epochs, hyperparameters, etc.)_\n"
   ]
  },
  {
   "cell_type": "markdown",
   "metadata": {},
   "source": [
    "**Answer:**"
   ]
  },
  {
   "cell_type": "code",
   "execution_count": null,
   "metadata": {
    "collapsed": true
   },
   "outputs": [],
   "source": [
    "#What where the parematers being chosen for training:\n",
    "    #1 - I used an Adamoptimizer which is using momentum and converting faster which is benefecial as on my machine training the network currently takes about 1 hour.\n",
    "    #2 - I started with the hyper parameters with inspiration from the network given here: https://github.com/aymericdamien/TensorFlow-Examples/blob/master/examples/3_NeuralNetworks/multilayer_perceptron.py\n",
    "    #3 - After training I discovered that increasing epochs led to better results as well on validation and training accuracy\n",
    "    #4 - I ended up using: learning_rate = 0.001, training_epochs = 20, batch_size = 100\n",
    "    #5 - I refrained from using regularization or dropout as overfitting was not yet seen as an issue with the training and validation accuracy where the are currently.\n",
    "    #6 - If using a more complex structure e.g several layers of convolution followed by several classification layers regularization or dropout could become vital in order to avoid overfitting."
   ]
  },
  {
   "cell_type": "markdown",
   "metadata": {},
   "source": [
    "### Question 5\n",
    "\n",
    "\n",
    "_What approach did you take in coming up with a solution to this problem?_"
   ]
  },
  {
   "cell_type": "markdown",
   "metadata": {},
   "source": [
    "**Answer:**"
   ]
  },
  {
   "cell_type": "code",
   "execution_count": null,
   "metadata": {
    "collapsed": true
   },
   "outputs": [],
   "source": [
    "#What was the approach taken overall:\n",
    "    #1 - I studied some examples of similar problems\n",
    "    #2 - I ended up starting from the architecture of a similar problem I found in the examples\n",
    "    #3 - Once being equipped with a starting point I used an iterative approach training the network several times with different parameters. Changing only 1 parameter at the time.\n",
    "    #4 - A change in parameters was considered successfully if as well validation, training and test accuracy increased at least 1%\n",
    "    #5 - I am entirely sure more work can be done on the hyper paramters leading to a results over 95% in test accuracy. But its hard to do that on a slow machine where 1 training takes 1 hour."
   ]
  },
  {
   "cell_type": "markdown",
   "metadata": {},
   "source": [
    "---\n",
    "\n",
    "## Step 3: Test a Model on New Images\n",
    "\n",
    "Take several pictures of traffic signs that you find on the web or around you (at least five), and run them through your classifier on your computer to produce example results. The classifier might not recognize some local signs but it could prove interesting nonetheless.\n",
    "\n",
    "You may find `signnames.csv` useful as it contains mappings from the class id (integer) to the actual sign name."
   ]
  },
  {
   "cell_type": "markdown",
   "metadata": {},
   "source": [
    "### Implementation\n",
    "\n",
    "Use the code cell (or multiple code cells, if necessary) to implement the first step of your project. Once you have completed your implementation and are satisfied with the results, be sure to thoroughly answer the questions that follow."
   ]
  },
  {
   "cell_type": "code",
   "execution_count": 9,
   "metadata": {},
   "outputs": [
    {
     "name": "stdout",
     "output_type": "stream",
     "text": [
      "Setting up these image for test\n",
      "------------\n",
      "Test Image 1: Class: 33,Turn right ahead\n"
     ]
    },
    {
     "data": {
      "image/png": "[encoded data removed]",
      "text/plain": [
       "<matplotlib.figure.Figure at 0x7f64fd7419b0>"
      ]
     },
     "metadata": {},
     "output_type": "display_data"
    },
    {
     "name": "stdout",
     "output_type": "stream",
     "text": [
      "Test Image 2: Class: 25,Road work\n"
     ]
    },
    {
     "data": {
      "image/png": "[encoded data removed]",
      "text/plain": [
       "<matplotlib.figure.Figure at 0x7f64f994b978>"
      ]
     },
     "metadata": {},
     "output_type": "display_data"
    },
    {
     "name": "stdout",
     "output_type": "stream",
     "text": [
      "Test Image 3: Class: 14,Stop\n"
     ]
    },
    {
     "data": {
      "image/png": "[encoded data removed]",
      "text/plain": [
       "<matplotlib.figure.Figure at 0x7f64f994b358>"
      ]
     },
     "metadata": {},
     "output_type": "display_data"
    },
    {
     "name": "stdout",
     "output_type": "stream",
     "text": [
      "Test Image 4: Class: 19,Dangerous curve to the left\n"
     ]
    },
    {
     "data": {
      "image/png": "[encoded data removed]",
      "text/plain": [
       "<matplotlib.figure.Figure at 0x7f64fdbb9e48>"
      ]
     },
     "metadata": {},
     "output_type": "display_data"
    },
    {
     "name": "stdout",
     "output_type": "stream",
     "text": [
      "Test Image 5: Class: 13,Yield\n"
     ]
    },
    {
     "data": {
      "image/png": "[encoded data removed]",
      "text/plain": [
       "<matplotlib.figure.Figure at 0x7f64fd817908>"
      ]
     },
     "metadata": {},
     "output_type": "display_data"
    },
    {
     "name": "stdout",
     "output_type": "stream",
     "text": [
      "Test Image 6: Class: 8,Speed limit (120km/h)\n"
     ]
    },
    {
     "data": {
      "image/png": "[encoded data removed]",
      "text/plain": [
       "<matplotlib.figure.Figure at 0x7f64fd709208>"
      ]
     },
     "metadata": {},
     "output_type": "display_data"
    },
    {
     "name": "stdout",
     "output_type": "stream",
     "text": [
      "Test Images setup done\n"
     ]
    }
   ],
   "source": [
    "### Load the images and plot them here.\n",
    "### Feel free to use as many code cells as needed.\n",
    "\n",
    "#Load the images from local machine\n",
    "image1 = mpimg.imread('test_images/Test_picture_1.jpg')\n",
    "image2 = mpimg.imread('test_images/Test_picture_2.jpg')\n",
    "image3 = mpimg.imread('test_images/Test_picture_3.jpg')\n",
    "image4 = mpimg.imread('test_images/Test_picture_4.jpg')\n",
    "image5 = mpimg.imread('test_images/Test_picture_5.jpg')\n",
    "image6 = mpimg.imread('test_images/Test_picture_6.jpg')\n",
    "\n",
    "print('Setting up these image for test')\n",
    "print('------------')\n",
    "\n",
    "#Print the images and create and print their according labels\n",
    "test_images_labels = np.zeros(shape=(6,43), dtype=np.float32)\n",
    "print('Test Image 1: Class: 33,Turn right ahead')\n",
    "test_images_labels[0][33]=1.0\n",
    "imageshow_rgb(image1)\n",
    "print('Test Image 2: Class: 25,Road work')\n",
    "test_images_labels[1][25]=1.0\n",
    "imageshow_rgb(image2)\n",
    "print('Test Image 3: Class: 14,Stop')\n",
    "test_images_labels[2][14]=1.0\n",
    "imageshow_rgb(image3)\n",
    "print('Test Image 4: Class: 19,Dangerous curve to the left')\n",
    "test_images_labels[3][19]=1.0\n",
    "imageshow_rgb(image4)\n",
    "print('Test Image 5: Class: 13,Yield')\n",
    "test_images_labels[4][13]=1.0\n",
    "imageshow_rgb(image5)\n",
    "print('Test Image 6: Class: 8,Speed limit (120km/h)')\n",
    "test_images_labels[5][8]=1.0\n",
    "imageshow_rgb(image6)\n",
    "\n",
    "#Create the features to feed the network\n",
    "test_images_features = np.zeros(shape=(6,32,32,3), dtype=np.float32)\n",
    "test_images_features[0:,:,:] = image1.astype(np.float32)\n",
    "test_images_features[1:,:,:] = image2.astype(np.float32)\n",
    "test_images_features[2:,:,:] = image3.astype(np.float32)\n",
    "test_images_features[3:,:,:] = image4.astype(np.float32)\n",
    "test_images_features[4:,:,:] = image5.astype(np.float32)\n",
    "test_images_features[5:,:,:] = image6.astype(np.float32)\n",
    "test_images_features[:,:,:,0],test_images_features[:,:,:,1],test_images_features[:,:,:,2] = normalize_rgb(test_images_features)\n",
    "\n",
    "print('Test Images setup done')"
   ]
  },
  {
   "cell_type": "markdown",
   "metadata": {},
   "source": [
    "### Question 6\n",
    "\n",
    "_Choose five candidate images of traffic signs and provide them in the report. Are there any particular qualities of the image(s) that might make classification difficult? It would be helpful to plot the images in the notebook._\n",
    "\n"
   ]
  },
  {
   "cell_type": "markdown",
   "metadata": {},
   "source": [
    "**Answer:**"
   ]
  },
  {
   "cell_type": "code",
   "execution_count": 8,
   "metadata": {
    "collapsed": true
   },
   "outputs": [],
   "source": [
    "### Run the predictions here.\n",
    "### Feel free to use as many code cells as needed.\n",
    "\n",
    "#What could make predictions hard:\n",
    "#1 - the pictures given above have been prepared by me particularily to be fed into the network. \n",
    "    # This already has eliminated some of the difficulties that can occur. But some still persist\n",
    "#2 - In general I could see the following problems occuring:\n",
    "    # Two or more traffic signs in 1 picture which would lead to not knowing anymore what is the traffic sign to be classified\n",
    "    # I did not use convolution layers meaning the position of the traffic sign in the picture unfortunately is going to matter. Meaning whether the traffic sign is centered or not is going to matter\n",
    "    # Especially for the last picture = picture 6 its going to be quite hard to distuingish from other speed limits or signs without characters that have the same shape and color. The differences are simply pretty small\n",
    "    # Picture 4 could potentially be very hard to interprete since its got quite some background with a horizon meaning there is land and sky parts in the picture. In general background is a problem since all pixels are fed to the network.\n",
    "    # If a picture is taken by another camera the lighting and resolution could be quite different which will certainly cause difficulties if the training set has been taken by just 1 camera.\n",
    "    # Picture 1 has the blue color as unique feature which should really stand out and should make classification easier\n",
    "    # Picture 2 has a very well structure background which should make classification a bit easier even though its harder to distuingish because the shape and color is quite common with other traffic signs\n",
    "    # Picture 3 has its shape stand out and a well structured background so it should make classification easier\n",
    "    # Picture 5 also has its shape stand out and a well structured background so it should make classification easier"
   ]
  },
  {
   "cell_type": "code",
   "execution_count": 35,
   "metadata": {},
   "outputs": [
    {
     "name": "stdout",
     "output_type": "stream",
     "text": [
      "Model restored. Now start the predictions\n",
      "Image accuracy at 0.6666666865348816\n",
      "-----------------\n",
      "classes searched are:\n",
      "Test Image 1: Class: 33,Turn right ahead\n",
      "Test Image 2: Class: 25,Road work\n",
      "Test Image 3: Class: 14,Stop\n",
      "Test Image 4: Class: 19,Dangerous curve to the left\n",
      "Test Image 5: Class: 13,Yield\n",
      "Test Image 6: Class: 8,Speed limit (120km/h)\n",
      "-----------------\n",
      "classed predicted are:\n",
      "Test Image 1: Class: [33]\n",
      "Test Image 2: Class: [25]\n",
      "Test Image 3: Class: [14]\n",
      "Test Image 4: Class: [ 0 19]\n",
      "Test Image 5: Class: [13]\n",
      "Test Image 6: Class: [ 1 35]\n",
      "-----------------\n",
      "The softmax probabilities are:\n",
      "[[  0.00000000e+00   0.00000000e+00   0.00000000e+00   0.00000000e+00\n",
      "    0.00000000e+00   0.00000000e+00   0.00000000e+00   0.00000000e+00\n",
      "    0.00000000e+00   0.00000000e+00   0.00000000e+00   0.00000000e+00\n",
      "    0.00000000e+00   0.00000000e+00   0.00000000e+00   0.00000000e+00\n",
      "    0.00000000e+00   0.00000000e+00   0.00000000e+00   0.00000000e+00\n",
      "    0.00000000e+00   0.00000000e+00   0.00000000e+00   0.00000000e+00\n",
      "    0.00000000e+00   0.00000000e+00   0.00000000e+00   0.00000000e+00\n",
      "    0.00000000e+00   0.00000000e+00   0.00000000e+00   0.00000000e+00\n",
      "    0.00000000e+00   1.00000000e+00   0.00000000e+00   0.00000000e+00\n",
      "    0.00000000e+00   0.00000000e+00   0.00000000e+00   0.00000000e+00\n",
      "    0.00000000e+00   0.00000000e+00   0.00000000e+00]\n",
      " [  0.00000000e+00   0.00000000e+00   0.00000000e+00   0.00000000e+00\n",
      "    0.00000000e+00   0.00000000e+00   0.00000000e+00   0.00000000e+00\n",
      "    0.00000000e+00   0.00000000e+00   0.00000000e+00   0.00000000e+00\n",
      "    0.00000000e+00   0.00000000e+00   0.00000000e+00   0.00000000e+00\n",
      "    0.00000000e+00   0.00000000e+00   0.00000000e+00   0.00000000e+00\n",
      "    0.00000000e+00   0.00000000e+00   0.00000000e+00   0.00000000e+00\n",
      "    0.00000000e+00   1.00000000e+00   0.00000000e+00   0.00000000e+00\n",
      "    0.00000000e+00   0.00000000e+00   0.00000000e+00   0.00000000e+00\n",
      "    0.00000000e+00   0.00000000e+00   0.00000000e+00   0.00000000e+00\n",
      "    0.00000000e+00   0.00000000e+00   0.00000000e+00   0.00000000e+00\n",
      "    0.00000000e+00   0.00000000e+00   0.00000000e+00]\n",
      " [  0.00000000e+00   0.00000000e+00   0.00000000e+00   0.00000000e+00\n",
      "    0.00000000e+00   0.00000000e+00   0.00000000e+00   0.00000000e+00\n",
      "    0.00000000e+00   0.00000000e+00   0.00000000e+00   0.00000000e+00\n",
      "    0.00000000e+00   0.00000000e+00   1.00000000e+00   0.00000000e+00\n",
      "    0.00000000e+00   0.00000000e+00   0.00000000e+00   0.00000000e+00\n",
      "    0.00000000e+00   0.00000000e+00   0.00000000e+00   0.00000000e+00\n",
      "    0.00000000e+00   0.00000000e+00   0.00000000e+00   0.00000000e+00\n",
      "    0.00000000e+00   0.00000000e+00   0.00000000e+00   0.00000000e+00\n",
      "    0.00000000e+00   0.00000000e+00   0.00000000e+00   0.00000000e+00\n",
      "    0.00000000e+00   0.00000000e+00   0.00000000e+00   0.00000000e+00\n",
      "    0.00000000e+00   0.00000000e+00   0.00000000e+00]\n",
      " [  9.99858975e-01   0.00000000e+00   0.00000000e+00   0.00000000e+00\n",
      "    0.00000000e+00   0.00000000e+00   0.00000000e+00   0.00000000e+00\n",
      "    0.00000000e+00   0.00000000e+00   0.00000000e+00   0.00000000e+00\n",
      "    0.00000000e+00   0.00000000e+00   0.00000000e+00   0.00000000e+00\n",
      "    0.00000000e+00   0.00000000e+00   0.00000000e+00   1.41021796e-04\n",
      "    0.00000000e+00   0.00000000e+00   0.00000000e+00   0.00000000e+00\n",
      "    0.00000000e+00   0.00000000e+00   0.00000000e+00   0.00000000e+00\n",
      "    0.00000000e+00   0.00000000e+00   0.00000000e+00   0.00000000e+00\n",
      "    0.00000000e+00   0.00000000e+00   0.00000000e+00   0.00000000e+00\n",
      "    0.00000000e+00   0.00000000e+00   0.00000000e+00   0.00000000e+00\n",
      "    0.00000000e+00   0.00000000e+00   0.00000000e+00]\n",
      " [  0.00000000e+00   0.00000000e+00   0.00000000e+00   0.00000000e+00\n",
      "    0.00000000e+00   0.00000000e+00   0.00000000e+00   0.00000000e+00\n",
      "    0.00000000e+00   0.00000000e+00   0.00000000e+00   0.00000000e+00\n",
      "    0.00000000e+00   1.00000000e+00   0.00000000e+00   0.00000000e+00\n",
      "    0.00000000e+00   0.00000000e+00   0.00000000e+00   0.00000000e+00\n",
      "    0.00000000e+00   0.00000000e+00   0.00000000e+00   0.00000000e+00\n",
      "    0.00000000e+00   0.00000000e+00   0.00000000e+00   0.00000000e+00\n",
      "    0.00000000e+00   0.00000000e+00   0.00000000e+00   0.00000000e+00\n",
      "    0.00000000e+00   0.00000000e+00   0.00000000e+00   0.00000000e+00\n",
      "    0.00000000e+00   0.00000000e+00   0.00000000e+00   0.00000000e+00\n",
      "    0.00000000e+00   0.00000000e+00   0.00000000e+00]\n",
      " [  0.00000000e+00   9.99831915e-01   0.00000000e+00   0.00000000e+00\n",
      "    0.00000000e+00   0.00000000e+00   0.00000000e+00   0.00000000e+00\n",
      "    0.00000000e+00   0.00000000e+00   0.00000000e+00   0.00000000e+00\n",
      "    0.00000000e+00   0.00000000e+00   0.00000000e+00   0.00000000e+00\n",
      "    0.00000000e+00   0.00000000e+00   0.00000000e+00   0.00000000e+00\n",
      "    0.00000000e+00   0.00000000e+00   0.00000000e+00   0.00000000e+00\n",
      "    0.00000000e+00   0.00000000e+00   0.00000000e+00   0.00000000e+00\n",
      "    0.00000000e+00   0.00000000e+00   0.00000000e+00   0.00000000e+00\n",
      "    0.00000000e+00   0.00000000e+00   0.00000000e+00   1.68036364e-04\n",
      "    0.00000000e+00   0.00000000e+00   0.00000000e+00   0.00000000e+00\n",
      "    0.00000000e+00   0.00000000e+00   0.00000000e+00]]\n",
      "-----------------\n",
      "Is the picture label in the top five probabilities?:\n",
      "[ True  True  True  True  True  True]\n"
     ]
    }
   ],
   "source": [
    "#Run the predictions and evaluate accuracy plus additional insight in results\n",
    "\n",
    "#Add ops to save and restore all the variables.\n",
    "saver = tf.train.Saver()\n",
    "\n",
    "#Setting up the measurements needed for evaluating the accuracy\n",
    "image_accuracy = 0.0\n",
    "image_feed_dict = {x: test_images_features, y: test_images_labels}\n",
    "softmaxprobabilities = np.zeros(shape=(6,43), dtype=np.uint8)\n",
    "prediction2 = tf.nn.softmax(multilayer_network(x, weights, biases))\n",
    "topFiver_prediction = tf.nn.in_top_k(prediction2, tf.argmax(y, 1), 5)\n",
    "\n",
    "#Now, launch the model, use the saver to restore variables from disk, \n",
    "#and evaluate the accuracy with the model.\n",
    "with tf.Session() as sess:\n",
    "    #Restore variables from disk.\n",
    "    saver.restore(sess, \"/tmp/model.ckpt\")\n",
    "    print(\"Model restored. Now start the predictions\")\n",
    "    #Check accuracy against Validation data\n",
    "    image_accuracy = sess.run(accuracy, feed_dict=image_feed_dict)\n",
    "    print('Image accuracy at {}'.format(image_accuracy))\n",
    "    #Get the softmax probabilities\n",
    "    softmaxprobabilities = (sess.run(prediction2, feed_dict=image_feed_dict))\n",
    "    #Get information whether the correct class is within the top five predictions\n",
    "    topfiveprediction = sess.run(topFiver_prediction, feed_dict=image_feed_dict)\n",
    "    #Print the results of the classes predicted by evaluating the nonzero elements of the softmax probabilities\n",
    "    print('-----------------')\n",
    "    print('classes searched are:')\n",
    "    print('Test Image 1: Class: 33,Turn right ahead')\n",
    "    print('Test Image 2: Class: 25,Road work')\n",
    "    print('Test Image 3: Class: 14,Stop')\n",
    "    print('Test Image 4: Class: 19,Dangerous curve to the left')\n",
    "    print('Test Image 5: Class: 13,Yield')\n",
    "    print('Test Image 6: Class: 8,Speed limit (120km/h)')\n",
    "    print('-----------------')\n",
    "    print('classed predicted are:')\n",
    "    print('Test Image 1: Class:',np.nonzero(softmaxprobabilities[0])[0])\n",
    "    print('Test Image 2: Class:',np.nonzero(softmaxprobabilities[1])[0])\n",
    "    print('Test Image 3: Class:',np.nonzero(softmaxprobabilities[2])[0])\n",
    "    print('Test Image 4: Class:',np.nonzero(softmaxprobabilities[3])[0])\n",
    "    print('Test Image 5: Class:',np.nonzero(softmaxprobabilities[4])[0])\n",
    "    print('Test Image 6: Class:',np.nonzero(softmaxprobabilities[5])[0])\n",
    "    print('-----------------')\n",
    "    #Print the softmax probabilities\n",
    "    print('The softmax probabilities are:')\n",
    "    print(softmaxprobabilities)\n",
    "    print('-----------------')\n",
    "    #Print the info whether searched for class is in top five predictions\n",
    "    print('Is the picture label in the top five probabilities?:')\n",
    "    print(topfiveprediction)"
   ]
  },
  {
   "cell_type": "markdown",
   "metadata": {},
   "source": [
    "### Question 7\n",
    "\n",
    "_Is your model able to perform equally well on captured pictures or a live camera stream when compared to testing on the dataset?_\n"
   ]
  },
  {
   "cell_type": "markdown",
   "metadata": {},
   "source": [
    "**Answer:**"
   ]
  },
  {
   "cell_type": "code",
   "execution_count": null,
   "metadata": {
    "collapsed": true
   },
   "outputs": [],
   "source": [
    "#It is not performing equally compared to the validation accuracy which is in many ways not surprising. \n",
    "#In the case shown it is nearly performing as well as the test accuracy from the test set which was 69% \n",
    "#However I tried this several times and sometimes the performance was as low as only 2 out of 6 correctly marked pictures when the network was trained again. "
   ]
  },
  {
   "cell_type": "markdown",
   "metadata": {},
   "source": [
    "### Question 8\n",
    "\n",
    "*Use the model's softmax probabilities to visualize the **certainty** of its predictions, [`tf.nn.top_k`](https://www.tensorflow.org/versions/r0.11/api_docs/python/nn.html#top_k) could prove helpful here. Which predictions is the model certain of? Uncertain? If the model was incorrect in its initial prediction, does the correct prediction appear in the top k? (k should be 5 at most)*\n"
   ]
  },
  {
   "cell_type": "markdown",
   "metadata": {},
   "source": [
    "**Answer:**"
   ]
  },
  {
   "cell_type": "code",
   "execution_count": null,
   "metadata": {
    "collapsed": true
   },
   "outputs": [],
   "source": [
    "#Image 1,2,3,5 are very certain\n",
    "#Image 4,6 are very uncertain\n",
    "#When calling topFiver_prediction = tf.nn.in_top_k(prediction2, tf.argmax(y, 1), 5) it comes back as true meaning the correct classes should be in the top five predictions"
   ]
  },
  {
   "cell_type": "markdown",
   "metadata": {},
   "source": [
    "### Question 9\n",
    "_If necessary, provide documentation for how an interface was built for your model to load and classify newly-acquired images._\n"
   ]
  },
  {
   "cell_type": "markdown",
   "metadata": {},
   "source": [
    "**Answer:**"
   ]
  },
  {
   "cell_type": "markdown",
   "metadata": {},
   "source": [
    "> **Note**: Once you have completed all of the code implementations and successfully answered each question above, you may finalize your work by exporting the iPython Notebook as an HTML document. You can do this by using the menu above and navigating to  \\n\",\n",
    "    \"**File -> Download as -> HTML (.html)**. Include the finished document along with this notebook as your submission."
   ]
  },
  {
   "cell_type": "code",
   "execution_count": null,
   "metadata": {
    "collapsed": true
   },
   "outputs": [],
   "source": []
  }
 ],
 "metadata": {
  "anaconda-cloud": {},
  "kernelspec": {
   "display_name": "Python 3",
   "language": "python",
   "name": "python3"
  },
  "language_info": {
   "codemirror_mode": {
    "name": "ipython",
    "version": 3
   },
   "file_extension": ".py",
   "mimetype": "text/x-python",
   "name": "python",
   "nbconvert_exporter": "python",
   "pygments_lexer": "ipython3",
   "version": "3.5.2"
  },
  "widgets": {
   "state": {},
   "version": "1.1.2"
  }
 },
 "nbformat": 4,
 "nbformat_minor": 1
}
